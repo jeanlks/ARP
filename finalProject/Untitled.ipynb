{
 "cells": [
  {
   "cell_type": "code",
   "execution_count": null,
   "metadata": {
    "collapsed": true
   },
   "outputs": [],
   "source": [
    "\n",
    "import pandas as pd\n",
    "\n",
    "\n",
    "import plotly.plotly as py\n",
    "from plotly.graph_objs  as go\n",
    "import plotly.graph_objs as go\n",
    "\n",
    "df = pd.read_csv(\"/Users/Jean/Documents/Software Engineering/UFG/mestrado/ARP/finalProject/datasets/crimes-in-chicago/Chicago_Crimes_2012_to_2017.csv\",sep=\",\")\n",
    "\n",
    "grouped = df.groupby(['Latitude','Longitude'])['Case Number'].count().reset_index(name=\"count\")\n",
    "print(grouped)\n",
    "\n",
    "\n",
    "mapbox_access_token = 'pk.eyJ1IjoiamVhbmxrcyIsImEiOiJjaXo1dThlbWswM3VwMndtbmhyNTlyazc3In0.j1ezMv-foA4UUPnJz8DYEA'\n",
    "py.sign_in('jeanlks','360cSGj1UBUxHAfiDd3M')\n",
    "data = go.Data([\n",
    "    go.Scattermapbox(\n",
    "        lat=grouped[\"Latitude\"],\n",
    "        lon=grouped[\"Longitude\"],\n",
    "        mode='markers',\n",
    "        marker=Marker(\n",
    "            size=9\n",
    "        ),\n",
    "        text=grouped['count'],\n",
    "    )\n",
    "])\n",
    "layout = Layout(\n",
    "    autosize=True,\n",
    "    hovermode='closest',\n",
    "    mapbox=dict(\n",
    "        accesstoken=mapbox_access_token,\n",
    "        bearing=0,\n",
    "        center=dict(\n",
    "            lat=41.88,\n",
    "            lon=-87.62\n",
    "        ),\n",
    "        pitch=0,\n",
    "        zoom=10\n",
    "    ),\n",
    ")\n",
    "\n",
    "fig = dict(data=data, layout=layout)\n",
    "py.iplot(fig, filename='Map Chicago',image='png')"
   ]
  }
 ],
 "metadata": {
  "kernelspec": {
   "display_name": "Python 3",
   "language": "python",
   "name": "python3"
  },
  "language_info": {
   "codemirror_mode": {
    "name": "ipython",
    "version": 3
   },
   "file_extension": ".py",
   "mimetype": "text/x-python",
   "name": "python",
   "nbconvert_exporter": "python",
   "pygments_lexer": "ipython3",
   "version": "3.5.3"
  }
 },
 "nbformat": 4,
 "nbformat_minor": 2
}
